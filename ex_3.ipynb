{
  "nbformat": 4,
  "nbformat_minor": 0,
  "metadata": {
    "colab": {
      "provenance": [],
      "authorship_tag": "ABX9TyMKajqu8Umz45tnS2ac+oYZ",
      "include_colab_link": true
    },
    "kernelspec": {
      "name": "python3",
      "display_name": "Python 3"
    },
    "language_info": {
      "name": "python"
    }
  },
  "cells": [
    {
      "cell_type": "markdown",
      "metadata": {
        "id": "view-in-github",
        "colab_type": "text"
      },
      "source": [
        "<a href=\"https://colab.research.google.com/github/MandigaNeeraja/Neeraja/blob/main/ex_3.ipynb\" target=\"_parent\"><img src=\"https://colab.research.google.com/assets/colab-badge.svg\" alt=\"Open In Colab\"/></a>"
      ]
    },
    {
      "cell_type": "code",
      "execution_count": 1,
      "metadata": {
        "colab": {
          "base_uri": "https://localhost:8080/"
        },
        "id": "pw2cqhCSNRea",
        "outputId": "5a23db7a-4ba6-4f3e-f3f5-06c2c118de89"
      },
      "outputs": [
        {
          "output_type": "stream",
          "name": "stdout",
          "text": [
            "pearsons correlation coefficient 0.9999999999999998\n"
          ]
        }
      ],
      "source": [
        "import numpy as np\n",
        "def pear_cor(x,y):\n",
        "  mean_x=np.mean(x)\n",
        "  mean_y=np.mean(y)\n",
        "  cov =np.sum((x-mean_x)*(y-mean_y))\n",
        "  std_dev_x=np.sqrt(np.sum((x-mean_x)**2))\n",
        "  std_dev_y=np.sqrt(np.sum((y-mean_y)**2))\n",
        "  corre=cov/(std_dev_x*std_dev_y)\n",
        "  return corre\n",
        "x=np.array([1,2,3,4,5])\n",
        "y=np.array([2,3,4,5,6])\n",
        "print(\"pearsons correlation coefficient\",pear_cor(x,y))\n",
        "\n"
      ]
    },
    {
      "cell_type": "code",
      "source": [
        "from sklearn.metrics.pairwise import cosine_similarity\n",
        "v1=np.array([1,2,3])\n",
        "v2=np.array([4,5,6])\n",
        "cosine_sim=cosine_similarity(v1.reshape(1,-1),v2.reshape(1,-1))\n",
        "print(\"cosine similarityu\",cosine_sim[0][0])"
      ],
      "metadata": {
        "colab": {
          "base_uri": "https://localhost:8080/"
        },
        "id": "nE0xYQyXO5Wm",
        "outputId": "4b29371b-a378-408d-f91d-035eb40a38af"
      },
      "execution_count": 2,
      "outputs": [
        {
          "output_type": "stream",
          "name": "stdout",
          "text": [
            "cosine similarityu 0.9746318461970762\n"
          ]
        }
      ]
    },
    {
      "cell_type": "code",
      "source": [
        "def jac_sim(set1,set2):\n",
        "  intersection=len(set1.intersection(set2))\n",
        "  union=len(set1.union(set2))\n",
        "  return intersection/union\n",
        "set1=set([1,2,3])\n",
        "set2=set([2,3,4])\n",
        "print(\"Jaccard similarity\",jac_sim(set1,set2))\n"
      ],
      "metadata": {
        "colab": {
          "base_uri": "https://localhost:8080/"
        },
        "id": "377us_K_PnQA",
        "outputId": "b75a20ed-16f4-480b-a57f-838f05b51afc"
      },
      "execution_count": 4,
      "outputs": [
        {
          "output_type": "stream",
          "name": "stdout",
          "text": [
            "Jaccard similarity 0.5\n"
          ]
        }
      ]
    },
    {
      "cell_type": "code",
      "source": [
        "def eucli_dis(x,y):\n",
        "  return np.sqrt(np.sum((x-y)**2))\n",
        "p1=np.array([1,2,3])\n",
        "p2=np.array([4,5,6])\n",
        "print(\"Euclidean distance:\",eucli_dis(p1,p2))\n"
      ],
      "metadata": {
        "colab": {
          "base_uri": "https://localhost:8080/"
        },
        "id": "4qev75eyQRN2",
        "outputId": "33fe1bc6-80b3-4eff-c4e2-4b5a6f053825"
      },
      "execution_count": 5,
      "outputs": [
        {
          "output_type": "stream",
          "name": "stdout",
          "text": [
            "Euclidean distance: 5.196152422706632\n"
          ]
        }
      ]
    },
    {
      "cell_type": "code",
      "source": [
        "def man_dis(x,y):\n",
        "  return np.sum(np.abs(x-y))\n",
        "p1=np.array([1,2,3])\n",
        "p2=np.array([4,5,6])\n",
        "print(\"Manhattan distance:\",man_dis(p1,p2))\n"
      ],
      "metadata": {
        "colab": {
          "base_uri": "https://localhost:8080/"
        },
        "id": "FSbqnLiXRM5P",
        "outputId": "25c1c6c9-61b7-4593-d94f-f5b7c8477dcf"
      },
      "execution_count": 6,
      "outputs": [
        {
          "output_type": "stream",
          "name": "stdout",
          "text": [
            "Manhattan distance: 9\n"
          ]
        }
      ]
    }
  ]
}